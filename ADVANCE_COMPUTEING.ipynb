{
  "nbformat": 4,
  "nbformat_minor": 0,
  "metadata": {
    "colab": {
      "provenance": [],
      "authorship_tag": "ABX9TyNvhJK9SwL3wEMyo2AeiK+7",
      "include_colab_link": true
    },
    "kernelspec": {
      "name": "python3",
      "display_name": "Python 3"
    },
    "language_info": {
      "name": "python"
    }
  },
  "cells": [
    {
      "cell_type": "markdown",
      "metadata": {
        "id": "view-in-github",
        "colab_type": "text"
      },
      "source": [
        "<a href=\"https://colab.research.google.com/github/VenkataramanSuriya/ADVANCE-COMPUTEING/blob/main/ADVANCE_COMPUTEING.ipynb\" target=\"_parent\"><img src=\"https://colab.research.google.com/assets/colab-badge.svg\" alt=\"Open In Colab\"/></a>"
      ]
    },
    {
      "cell_type": "markdown",
      "source": [
        "1.PROGRAM TO PRINT MY NAME"
      ],
      "metadata": {
        "id": "1i_JpyZBWu6U"
      }
    },
    {
      "cell_type": "code",
      "source": [
        "print(\"I am going to print my Name : VENKATARAMAN\")"
      ],
      "metadata": {
        "colab": {
          "base_uri": "https://localhost:8080/"
        },
        "id": "JZ-vGyYLWw_Q",
        "outputId": "52a8e138-cfa3-4d4f-d3ce-b45e279826f8"
      },
      "execution_count": null,
      "outputs": [
        {
          "output_type": "stream",
          "name": "stdout",
          "text": [
            "I am going to print my Name : VENKATARAMAN\n"
          ]
        }
      ]
    },
    {
      "cell_type": "markdown",
      "source": [],
      "metadata": {
        "id": "FY7N41u-ZA-x"
      }
    },
    {
      "cell_type": "markdown",
      "source": [
        "2.PROGRAM TO ARITHMATIC OPERATIONS"
      ],
      "metadata": {
        "id": "Z6ln_YkmZFdm"
      }
    },
    {
      "cell_type": "code",
      "source": [
        "N1=int(input(\"enter the first number :\"))\n",
        "N2=int(input(\"enter the second number :\"))\n",
        "add=N1+N2\n",
        "sub=N1-N2\n",
        "multi=N1*N2\n",
        "divi=N1/N2\n",
        "floor_divi=N1//N2\n",
        "power=N1**N2\n",
        "print(\"add of\",N1,\"and\",N2,\"is\",add)\n",
        "print(\"sub of\",N1,\"and\",N2,\"is\",sub)\n",
        "print(\"multi of\",N1,\"and\",N2,\"is\",multi)\n",
        "print(\"divi of\",N1,\"and\",N2,\"is\",divi)\n",
        "print(\"floor_divi of\",N1,\"and\",N2,\"is\",floor_divi)\n",
        "print(\"power of\",N1,\"and\",N2,\"is\",power)\n"
      ],
      "metadata": {
        "colab": {
          "base_uri": "https://localhost:8080/"
        },
        "id": "cCOi7ALFZVVc",
        "outputId": "82f870d6-582a-4569-93f1-c224b11c6c71"
      },
      "execution_count": null,
      "outputs": [
        {
          "output_type": "stream",
          "name": "stdout",
          "text": [
            "enter the first number :4\n",
            "enter the second number :6\n",
            "add of 4 and 6 is 10\n",
            "sub of 4 and 6 is -2\n",
            "multi of 4 and 6 is 24\n",
            "divi of 4 and 6 is 0.6666666666666666\n",
            "floor_divi of 4 and 6 is 0\n",
            "power of 4 and 6 is 4096\n"
          ]
        }
      ]
    },
    {
      "cell_type": "markdown",
      "source": [
        "3.PROGRAM TO FIND AREA OF TRIANGLE"
      ],
      "metadata": {
        "id": "74v2qWzFa5ER"
      }
    },
    {
      "cell_type": "code",
      "source": [
        "Base=int(input(\"Enter the value of base :\"))\n",
        "Hight=int(input(\"Enter the value of base :\"))\n",
        "AREA_OF_TRIANGLE=1/2*Base*Hight\n",
        "print('the Area of Triange is :',AREA_OF_TRIANGLE)\n"
      ],
      "metadata": {
        "colab": {
          "base_uri": "https://localhost:8080/"
        },
        "id": "l7LjlNNda_7Q",
        "outputId": "476a43bf-6e7c-4e83-f2d3-6e2f7e556e83"
      },
      "execution_count": null,
      "outputs": [
        {
          "output_type": "stream",
          "name": "stdout",
          "text": [
            "Enter the value of base :6\n",
            "Enter the value of base :12\n",
            "the Area of Triange is : 36.0\n"
          ]
        }
      ]
    },
    {
      "cell_type": "markdown",
      "source": [
        "4.PROGRAM TO VALUES IN DIFFRENT METHODS"
      ],
      "metadata": {
        "id": "JiWnrm4rbuv6"
      }
    },
    {
      "cell_type": "markdown",
      "source": [
        "I) USING TEMPRORY VARIABLE"
      ],
      "metadata": {
        "id": "ASurl4ZWb2Mi"
      }
    },
    {
      "cell_type": "code",
      "source": [
        "S=int(input('Enter the value S : '))\n",
        "V=int(input('Enter the value V : '))\n",
        "Temp=0\n",
        "\n",
        "Temp=S\n",
        "S=V\n",
        "V=Temp\n",
        "\n",
        "print(\"The value of S is :\",S)\n",
        "print(\"The value of V is :\",V)"
      ],
      "metadata": {
        "colab": {
          "base_uri": "https://localhost:8080/"
        },
        "id": "EdidndA6bsJj",
        "outputId": "c7f6fd5c-6947-44fb-c8f0-e39260fcadbb"
      },
      "execution_count": null,
      "outputs": [
        {
          "output_type": "stream",
          "name": "stdout",
          "text": [
            "Enter the value S : 4\n",
            "Enter the value V : 6\n",
            "the value of S is : 6\n",
            "the value of V is : 4\n"
          ]
        }
      ]
    },
    {
      "cell_type": "markdown",
      "source": [
        "II) ASSIGN USING COMMA OPERATOR"
      ],
      "metadata": {
        "id": "nSbtWBZ7eUD7"
      }
    },
    {
      "cell_type": "code",
      "source": [
        "S=int(input('Enter the value S : '))\n",
        "V=int(input('Enter the value V : '))\n",
        "\n",
        "S,V=V,S\n",
        "\n",
        "print(\"The value of S is :\",S)\n",
        "print(\"The value of V is :\",V)"
      ],
      "metadata": {
        "id": "ewO1YCcEejL7",
        "colab": {
          "base_uri": "https://localhost:8080/"
        },
        "outputId": "7c5f1c02-01da-466e-ca01-e75de33abd02"
      },
      "execution_count": null,
      "outputs": [
        {
          "output_type": "stream",
          "name": "stdout",
          "text": [
            "Enter the value S :  4\n",
            "Enter the value V : 6\n",
            "The value of S is : 6\n",
            "The value of V is : 4\n"
          ]
        }
      ]
    },
    {
      "cell_type": "markdown",
      "source": [
        "III) SWAP TWO VARIABLES USING XOR MEATHOD"
      ],
      "metadata": {
        "id": "y5OfIplC1wpP"
      }
    },
    {
      "cell_type": "code",
      "source": [
        "S=int(input('Enter the value S : '))\n",
        "V=int(input('Enter the value V : '))\n",
        "\n",
        "S=S^V\n",
        "V=S^V\n",
        "S=S^V\n",
        "\n",
        "print(\"The value of S is :\",S)\n",
        "print(\"The value of V is :\",V)"
      ],
      "metadata": {
        "colab": {
          "base_uri": "https://localhost:8080/"
        },
        "id": "W8wRAhGH1vwT",
        "outputId": "f64d5b4e-ae7c-43f0-eee3-0f7a6d8823e0"
      },
      "execution_count": null,
      "outputs": [
        {
          "output_type": "stream",
          "name": "stdout",
          "text": [
            "Enter the value S : 4\n",
            "Enter the value V : 6\n",
            "The value of S is : 6\n",
            "The value of V is : 4\n"
          ]
        }
      ]
    },
    {
      "cell_type": "markdown",
      "source": [
        "IV) SWAPPING VALUE IN ARITHMATIC OPERATOR"
      ],
      "metadata": {
        "id": "0hoJ_tbN2onT"
      }
    },
    {
      "cell_type": "code",
      "source": [
        "S=int(input('Enter the value S : '))\n",
        "V=int(input('Enter the value V : '))\n",
        "\n",
        "S=S+V\n",
        "V=S-V\n",
        "S=S-V\n",
        "\n",
        "print(\"The value of S is :\",S)\n",
        "print(\"The value of V is :\",V)"
      ],
      "metadata": {
        "colab": {
          "base_uri": "https://localhost:8080/"
        },
        "id": "Mbm1BC06218-",
        "outputId": "79819d61-ba55-4a91-952a-73cc497fe2ca"
      },
      "execution_count": null,
      "outputs": [
        {
          "output_type": "stream",
          "name": "stdout",
          "text": [
            "Enter the value S : 4\n",
            "Enter the value V : 6\n",
            "The value of S is : 6\n",
            "The value of V is : 4\n"
          ]
        }
      ]
    },
    {
      "cell_type": "markdown",
      "source": [
        "5.PYTHON PROGRAM CHEACK LEAP YEAR USING (AND,OR) OPERATORS"
      ],
      "metadata": {
        "id": "AHotbgYa3bJT"
      }
    },
    {
      "cell_type": "code",
      "source": [
        "V = int(input(\"ENTER THE YEAR TO CHEACK : \"))\n",
        "\n",
        "if(V%400==0)and(V%100==0):\n",
        "  print('The entered year is an leap year :',V)\n",
        "elif(V%4==0)or(V%100==0):\n",
        "  print('The entered year is an leap year :',V)\n",
        "else:\n",
        "  print('The entered year is not an leap year :',V)"
      ],
      "metadata": {
        "colab": {
          "base_uri": "https://localhost:8080/"
        },
        "id": "zA2FWfOy3aiS",
        "outputId": "c5b01ebe-a074-400e-acbc-11d204704879"
      },
      "execution_count": null,
      "outputs": [
        {
          "output_type": "stream",
          "name": "stdout",
          "text": [
            "ENTER THE YEAR TO CHEACK : 2004\n",
            "The entered year is an leap year : 2004\n"
          ]
        }
      ]
    },
    {
      "cell_type": "markdown",
      "source": [
        "6.Python program to cheack entered value is Possitive, Negative, Zero"
      ],
      "metadata": {
        "id": "9Q4OIBQY4tAf"
      }
    },
    {
      "cell_type": "code",
      "source": [
        "N = int(input(\"ENTER THE NUMBER TO CHEACK : \"))\n",
        "\n",
        "if(N>0):\n",
        "  print(\"The entered number is an Possitive : \",N)\n",
        "elif(N<0):\n",
        "  print(\"The entered number is an Negative : \",N)\n",
        "else:\n",
        "  print(\"The entered number is an Possitive Zero : \",N)\n"
      ],
      "metadata": {
        "colab": {
          "base_uri": "https://localhost:8080/"
        },
        "id": "UHh3XaIF5Kh2",
        "outputId": "b772fc10-354f-4e96-8f4b-9b83cee171cc"
      },
      "execution_count": null,
      "outputs": [
        {
          "output_type": "stream",
          "name": "stdout",
          "text": [
            "ENTER THE NUMBER TO CHEACK : 6\n",
            "The entered number is an Possitive :  6\n"
          ]
        }
      ]
    },
    {
      "cell_type": "markdown",
      "source": [
        "7.PROGRAM TO FIND FACTORIAL OF GIVEN NUMBER"
      ],
      "metadata": {
        "id": "cUhux33p6PP0"
      }
    },
    {
      "cell_type": "code",
      "source": [
        "NUM = int(input(\"Enter the number to find :\"))\n",
        "Fact=1\n",
        "\n",
        "if(NUM<0):\n",
        "  print(\"The entered number is invalid o \")\n",
        "elif(NUM==0):\n",
        "  print(\"Factorial of 0 is 1\")\n",
        "else:\n",
        "  for i in range(1,NUM+1):\n",
        "    Fact=Fact*i\n",
        "print(\"The factorial of\",NUM,\"is\",Fact)"
      ],
      "metadata": {
        "colab": {
          "base_uri": "https://localhost:8080/"
        },
        "id": "CGIGq9396c3_",
        "outputId": "faee7a6d-8dbc-4093-92c8-b2eb973edf39"
      },
      "execution_count": null,
      "outputs": [
        {
          "output_type": "stream",
          "name": "stdout",
          "text": [
            "Enter the number to find :4\n",
            "The factorial of 4 is 24\n"
          ]
        }
      ]
    },
    {
      "cell_type": "markdown",
      "source": [
        "8) PROGRAM TO DISPLAY MULTIPLICATION TABLE"
      ],
      "metadata": {
        "id": "3igchLy3-PkA"
      }
    },
    {
      "cell_type": "code",
      "source": [
        "NUM = int(input(\"ENTER TABLE NO WHAT YOU WANT : \"))\n",
        "for i in range(1,11):\n",
        "  print(NUM,'X',i,'=',NUM*i)"
      ],
      "metadata": {
        "colab": {
          "base_uri": "https://localhost:8080/"
        },
        "id": "ZFYB7UL8-QL-",
        "outputId": "f34a1a88-eee1-4bdf-99ed-acda3901f652"
      },
      "execution_count": null,
      "outputs": [
        {
          "output_type": "stream",
          "name": "stdout",
          "text": [
            "ENTER TABLE NO WHAT YOU WANT : 6\n",
            "6 X 1 = 6\n",
            "6 X 2 = 12\n",
            "6 X 3 = 18\n",
            "6 X 4 = 24\n",
            "6 X 5 = 30\n",
            "6 X 6 = 36\n",
            "6 X 7 = 42\n",
            "6 X 8 = 48\n",
            "6 X 9 = 54\n",
            "6 X 10 = 60\n"
          ]
        }
      ]
    },
    {
      "cell_type": "markdown",
      "source": [
        "9) FIND AMSTRONG NUMBER BETWEEN INTERAVEL"
      ],
      "metadata": {
        "id": "Ywiy3c2L_Ua9"
      }
    },
    {
      "cell_type": "code",
      "source": [
        "print(\"ARMSTRONG NUMBERS BETWEEN 100 AND 500 ARE:\")\n",
        "\n",
        "for num in range(100, 501):\n",
        "    sum = 0\n",
        "    digit = 0\n",
        "    temp = num\n",
        "\n",
        "    while temp > 0:\n",
        "        digit = temp % 10\n",
        "        sum = sum + (digit ** 3)  # Check for Armstrong number with cube of digits\n",
        "        temp = temp // 10\n",
        "\n",
        "    if num == sum:\n",
        "        print(num)\n"
      ],
      "metadata": {
        "colab": {
          "base_uri": "https://localhost:8080/"
        },
        "id": "UomytXjJxHa6",
        "outputId": "060b44c3-0ab8-4a2b-a9ab-0c7f3a404e1f"
      },
      "execution_count": null,
      "outputs": [
        {
          "output_type": "stream",
          "name": "stdout",
          "text": [
            "ARMSTRONG NUMBERS BETWEEN 100 AND 500 ARE:\n",
            "153\n",
            "370\n",
            "371\n",
            "407\n"
          ]
        }
      ]
    },
    {
      "cell_type": "code",
      "source": [
        "for num in range (100,501) :\n",
        "  digit_sum = sum(int(digit)**3 for digit in str(num))\n",
        "\n",
        "  if num == digit_sum :\n",
        "    print(num)"
      ],
      "metadata": {
        "colab": {
          "base_uri": "https://localhost:8080/",
          "height": 245
        },
        "id": "PWlqDQp7Cxmv",
        "outputId": "3fad3393-dac5-4aaa-b80a-c3a9bbc013ad"
      },
      "execution_count": null,
      "outputs": [
        {
          "output_type": "error",
          "ename": "TypeError",
          "evalue": "ignored",
          "traceback": [
            "\u001b[0;31m---------------------------------------------------------------------------\u001b[0m",
            "\u001b[0;31mTypeError\u001b[0m                                 Traceback (most recent call last)",
            "\u001b[0;32m<ipython-input-30-e364674ae382>\u001b[0m in \u001b[0;36m<cell line: 1>\u001b[0;34m()\u001b[0m\n\u001b[1;32m      1\u001b[0m \u001b[0;32mfor\u001b[0m \u001b[0mnum\u001b[0m \u001b[0;32min\u001b[0m \u001b[0mrange\u001b[0m \u001b[0;34m(\u001b[0m\u001b[0;36m100\u001b[0m\u001b[0;34m,\u001b[0m\u001b[0;36m501\u001b[0m\u001b[0;34m)\u001b[0m \u001b[0;34m:\u001b[0m\u001b[0;34m\u001b[0m\u001b[0;34m\u001b[0m\u001b[0m\n\u001b[0;32m----> 2\u001b[0;31m   \u001b[0mdigit_sum\u001b[0m \u001b[0;34m=\u001b[0m \u001b[0msum\u001b[0m\u001b[0;34m(\u001b[0m\u001b[0mint\u001b[0m\u001b[0;34m(\u001b[0m\u001b[0mdigit\u001b[0m\u001b[0;34m)\u001b[0m\u001b[0;34m**\u001b[0m\u001b[0;36m3\u001b[0m \u001b[0;32mfor\u001b[0m \u001b[0mdigit\u001b[0m \u001b[0;32min\u001b[0m \u001b[0mstr\u001b[0m\u001b[0;34m(\u001b[0m\u001b[0mnum\u001b[0m\u001b[0;34m)\u001b[0m\u001b[0;34m)\u001b[0m\u001b[0;34m\u001b[0m\u001b[0;34m\u001b[0m\u001b[0m\n\u001b[0m\u001b[1;32m      3\u001b[0m \u001b[0;34m\u001b[0m\u001b[0m\n\u001b[1;32m      4\u001b[0m   \u001b[0;32mif\u001b[0m \u001b[0mnum\u001b[0m \u001b[0;34m==\u001b[0m \u001b[0mdigit_sum\u001b[0m \u001b[0;34m:\u001b[0m\u001b[0;34m\u001b[0m\u001b[0;34m\u001b[0m\u001b[0m\n\u001b[1;32m      5\u001b[0m     \u001b[0mprint\u001b[0m\u001b[0;34m(\u001b[0m\u001b[0mnum\u001b[0m\u001b[0;34m)\u001b[0m\u001b[0;34m\u001b[0m\u001b[0;34m\u001b[0m\u001b[0m\n",
            "\u001b[0;31mTypeError\u001b[0m: 'str' object is not callable"
          ]
        }
      ]
    },
    {
      "cell_type": "code",
      "source": [
        "arr=[1,2,3,4]\n",
        "total=0\n",
        "for i in arr:\n",
        "  total+=i\n",
        "print(total)"
      ],
      "metadata": {
        "colab": {
          "base_uri": "https://localhost:8080/"
        },
        "id": "hAVq-oAFxRhp",
        "outputId": "75f05b74-818a-4415-9186-2332e1359b6d"
      },
      "execution_count": null,
      "outputs": [
        {
          "output_type": "stream",
          "name": "stdout",
          "text": [
            "10\n"
          ]
        }
      ]
    },
    {
      "cell_type": "code",
      "source": [
        "def fibb(n):\n",
        "  if n<0 :\n",
        "    return(1)\n",
        "  else:\n",
        "    return (fibb(n-1) + fibb(n-2))\n",
        "\n",
        "n=6\n",
        "for i in range(0,n):\n",
        "  print(fibb(i))\n"
      ],
      "metadata": {
        "colab": {
          "base_uri": "https://localhost:8080/"
        },
        "id": "4WEjHGJ3zN-H",
        "outputId": "4a8159b9-3dfd-4f15-8446-48d7a3b75d2d"
      },
      "execution_count": null,
      "outputs": [
        {
          "output_type": "stream",
          "name": "stdout",
          "text": [
            "2\n",
            "3\n",
            "5\n",
            "8\n",
            "13\n",
            "21\n"
          ]
        }
      ]
    },
    {
      "cell_type": "code",
      "source": [
        "def fibonacci(n):\n",
        "    if n <= 0:\n",
        "        return []\n",
        "    elif n == 1:\n",
        "        return [0]\n",
        "    elif n == 2:\n",
        "        return [0, 1]\n",
        "    else:\n",
        "        fib_seq = fibonacci(n - 1)\n",
        "        fib_seq.append(fib_seq[-1] + fib_seq[-2])\n",
        "        return fib_seq\n",
        "\n",
        "n = int(input(\"Enter the number of terms for the Fibonacci sequence: \"))\n",
        "\n",
        "if n <= 0:\n",
        "    print(\"Please enter a positive integer.\")\n",
        "else:\n",
        "    fib_sequence = fibonacci(n)\n",
        "    print(\"Fibonacci Sequence:\")\n",
        "    print(fib_sequence)\n"
      ],
      "metadata": {
        "colab": {
          "base_uri": "https://localhost:8080/"
        },
        "id": "GlCIkjOl4ybQ",
        "outputId": "65377e9e-f613-4a6d-8791-0ad5cab3ab65"
      },
      "execution_count": null,
      "outputs": [
        {
          "output_type": "stream",
          "name": "stdout",
          "text": [
            "Enter the number of terms for the Fibonacci sequence: 12\n",
            "Fibonacci Sequence:\n",
            "[0, 1, 1, 2, 3, 5, 8, 13, 21, 34, 55, 89]\n"
          ]
        }
      ]
    },
    {
      "cell_type": "markdown",
      "source": [
        "11. def function use previous code program"
      ],
      "metadata": {
        "id": "b1o-oKR96I8J"
      }
    },
    {
      "cell_type": "markdown",
      "source": [
        "12. program to store one arry another array"
      ],
      "metadata": {
        "id": "0twW-FSa6WUU"
      }
    },
    {
      "cell_type": "code",
      "source": [
        "def copy_val (start,end):\n",
        "  for val in start:\n",
        "    end.append(val)\n",
        "\n",
        "start1=[1,2,3,4]\n",
        "end2=[]\n",
        "copy_val(start1,end2)\n",
        "print(start1)\n",
        "print(end2)"
      ],
      "metadata": {
        "colab": {
          "base_uri": "https://localhost:8080/"
        },
        "id": "6-HxQb6D6IVm",
        "outputId": "222b020b-7f17-4836-d916-288bc76adbff"
      },
      "execution_count": null,
      "outputs": [
        {
          "output_type": "stream",
          "name": "stdout",
          "text": [
            "[1, 2, 3, 4]\n",
            "[1, 2, 3, 4]\n"
          ]
        }
      ]
    },
    {
      "cell_type": "markdown",
      "source": [
        "13"
      ],
      "metadata": {
        "id": "TiivyCQf96yx"
      }
    },
    {
      "cell_type": "code",
      "source": [
        "def left_rotate_array(arr, k):\n",
        "    k %= len(arr)  # Ensure k is within the array size\n",
        "    return arr[k:] + arr[:k]\n",
        "\n",
        "# Example usage\n",
        "original_array = [1, 2, 3, 4, 5]\n",
        "rotation_amount = 2  # Number of positions to rotate left\n",
        "\n",
        "rotated_array = left_rotate_array(original_array, rotation_amount)\n",
        "\n",
        "print(\"Original Array:\", original_array)\n",
        "print(\"Left Rotated Array:\", rotated_array)\n"
      ],
      "metadata": {
        "colab": {
          "base_uri": "https://localhost:8080/"
        },
        "id": "SnYWQmT_8TGd",
        "outputId": "bda88dfe-7b17-46ba-c95b-f0d1ba901a67"
      },
      "execution_count": null,
      "outputs": [
        {
          "output_type": "stream",
          "name": "stdout",
          "text": [
            "Original Array: [1, 2, 3, 4, 5]\n",
            "Left Rotated Array: [3, 4, 5, 1, 2]\n"
          ]
        }
      ]
    },
    {
      "cell_type": "markdown",
      "source": [
        "14"
      ],
      "metadata": {
        "id": "TvZW2FAG-SCV"
      }
    },
    {
      "cell_type": "code",
      "source": [
        "def find_duplicates(arr):\n",
        "    duplicates = []\n",
        "\n",
        "    for element in arr:\n",
        "        if arr.count(element) > 1 and element not in duplicates:\n",
        "            duplicates.append(element)\n",
        "\n",
        "    return duplicates\n",
        "\n",
        "# Example usage\n",
        "if __name__ == \"__main__\":\n",
        "    my_array = [1, 2, 3, 2, 4, 5, 5, 6]\n",
        "    duplicate_elements = find_duplicates(my_array)\n",
        "\n",
        "    print(\"Duplicate elements in the array:\", duplicate_elements)\n"
      ],
      "metadata": {
        "colab": {
          "base_uri": "https://localhost:8080/"
        },
        "id": "fGgomtrq-Tom",
        "outputId": "cc8fb15e-f776-4679-8f2d-db612100ddd1"
      },
      "execution_count": null,
      "outputs": [
        {
          "output_type": "stream",
          "name": "stdout",
          "text": [
            "Duplicate elements in the array: [2, 5]\n"
          ]
        }
      ]
    },
    {
      "cell_type": "markdown",
      "source": [
        "15"
      ],
      "metadata": {
        "id": "bJU0iKLh-xn-"
      }
    },
    {
      "cell_type": "code",
      "source": [
        "ori_array=[1,2,3,4,5,6]\n",
        "roti_array=ori_array[::-1]\n",
        "print(roti_array)"
      ],
      "metadata": {
        "colab": {
          "base_uri": "https://localhost:8080/"
        },
        "id": "_9oWIISG-yk0",
        "outputId": "01f43600-38b7-492e-a970-8fbac62abb54"
      },
      "execution_count": null,
      "outputs": [
        {
          "output_type": "stream",
          "name": "stdout",
          "text": [
            "[6, 5, 4, 3, 2, 1]\n"
          ]
        }
      ]
    },
    {
      "cell_type": "markdown",
      "source": [
        "16"
      ],
      "metadata": {
        "id": "UGfflhrF_QNF"
      }
    },
    {
      "cell_type": "code",
      "source": [
        "arr=[1,4,27,0]\n",
        "arr.sort()\n",
        "print(arr)"
      ],
      "metadata": {
        "colab": {
          "base_uri": "https://localhost:8080/"
        },
        "id": "mZEVrZKy_VtO",
        "outputId": "c125bc26-142d-4ed1-e1aa-f7fdeef4395d"
      },
      "execution_count": null,
      "outputs": [
        {
          "output_type": "stream",
          "name": "stdout",
          "text": [
            "[0, 1, 4, 27]\n"
          ]
        }
      ]
    },
    {
      "cell_type": "code",
      "source": [
        "17"
      ],
      "metadata": {
        "id": "DxpAuI7v_maO"
      },
      "execution_count": null,
      "outputs": []
    },
    {
      "cell_type": "code",
      "source": [
        "val=[23,24,6,4,4,8]\n",
        "tot=0\n",
        "for i in val :\n",
        "  tot = tot+i\n",
        "print(tot)"
      ],
      "metadata": {
        "colab": {
          "base_uri": "https://localhost:8080/"
        },
        "id": "dJJHJM7b_80d",
        "outputId": "1a8b90cd-e785-45bb-a4f7-bbea7c2affd2"
      },
      "execution_count": null,
      "outputs": [
        {
          "output_type": "stream",
          "name": "stdout",
          "text": [
            "69\n"
          ]
        }
      ]
    },
    {
      "cell_type": "markdown",
      "source": [
        "18"
      ],
      "metadata": {
        "id": "bI5HcuhFA4R2"
      }
    },
    {
      "cell_type": "code",
      "source": [
        "str = ('VENKAT RAMAN')\n",
        "REVERED_VAL=str[::-1]\n",
        "print(REVERED_VAL)"
      ],
      "metadata": {
        "colab": {
          "base_uri": "https://localhost:8080/"
        },
        "id": "qyz3mUgnA6Zi",
        "outputId": "87608f6e-25e6-47dc-d249-701df465af45"
      },
      "execution_count": null,
      "outputs": [
        {
          "output_type": "stream",
          "name": "stdout",
          "text": [
            "NAMAR TAKNEV\n"
          ]
        }
      ]
    },
    {
      "cell_type": "markdown",
      "source": [
        "20"
      ],
      "metadata": {
        "id": "uEOXhIZXBsLT"
      }
    },
    {
      "cell_type": "code",
      "source": [
        "def linear_search(arr, target):\n",
        "    for i in range(len(arr)):\n",
        "        if arr[i] == target:\n",
        "            return i\n",
        "    return -1\n",
        "\n",
        "numbers = [2, 4, 6, 8, 10]\n",
        "target_number = 8\n",
        "\n",
        "result = linear_search(numbers, target_number)\n",
        "\n",
        "if result != -1:\n",
        "    print(f\"Found {target_number} at index {result}.\")\n",
        "else:\n",
        "    print(f\"{target_number} not found in the list.\")\n"
      ],
      "metadata": {
        "colab": {
          "base_uri": "https://localhost:8080/"
        },
        "id": "KDjUXqBeBuyF",
        "outputId": "dca73c88-ccf4-4ec5-a087-e65ad1348350"
      },
      "execution_count": null,
      "outputs": [
        {
          "output_type": "stream",
          "name": "stdout",
          "text": [
            "Found 8 at index 3.\n"
          ]
        }
      ]
    },
    {
      "cell_type": "markdown",
      "source": [
        "21"
      ],
      "metadata": {
        "id": "Co7zOxUUDY40"
      }
    },
    {
      "cell_type": "code",
      "source": [
        "def binary_search(arr, target):\n",
        "    left, right = 0, len(arr) - 1\n",
        "\n",
        "    while left <= right:\n",
        "        mid = (left + right) // 2\n",
        "\n",
        "        if arr[mid] == target:\n",
        "            return mid\n",
        "        elif arr[mid] < target:\n",
        "            left = mid + 1\n",
        "        else:\n",
        "            right = mid - 1\n",
        "\n",
        "    return -1\n",
        "\n",
        "# Example usage:\n",
        "arr = [1, 2, 3, 4, 5, 6, 7, 8, 9, 10]\n",
        "target = 6\n",
        "\n",
        "result = binary_search(arr, target)\n",
        "\n",
        "if result != -1:\n",
        "    print(f\"Element found at index {result}\")\n",
        "else:\n",
        "    print(\"Element not found in the list\")\n"
      ],
      "metadata": {
        "colab": {
          "base_uri": "https://localhost:8080/"
        },
        "id": "kO4fG1onDaVG",
        "outputId": "3bc1a657-8116-41ee-d78d-358b9b76df8a"
      },
      "execution_count": null,
      "outputs": [
        {
          "output_type": "stream",
          "name": "stdout",
          "text": [
            "Element found at index 5\n"
          ]
        }
      ]
    }
  ]
}